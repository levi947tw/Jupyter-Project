{
 "cells": [
  {
   "cell_type": "code",
   "execution_count": 31,
   "metadata": {
    "collapsed": false
   },
   "outputs": [
    {
     "name": "stdout",
     "output_type": "stream",
     "text": [
      "32089705972\n",
      "2986-11-18 23:12:52\n"
     ]
    }
   ],
   "source": [
    "# Version 1.0.0\n",
    "# By leviliang\n",
    "\n",
    "import datetime\n",
    "\n",
    "hint = \"Z1h8Qm\"\n",
    "\n",
    "digitCount = len(\"0123456789ABCDEFGHIJKLMNOPQRSTUVWXYZabcdefghijklmnopqrstuvwxyz\")\n",
    "value = 0\n",
    "digit = 1\n",
    "\n",
    "for i in range (len(hint)-1, -1, -1):\n",
    "    value += \"0123456789ABCDEFGHIJKLMNOPQRSTUVWXYZabcdefghijklmnopqrstuvwxyz\".index(hint[i]) * digit\n",
    "    digit *= digitCount\n",
    "    # print hint[0]\n",
    "print value\n",
    "\n",
    "print datetime.datetime.fromtimestamp(value)\n",
    "# print digitCount"
   ]
  },
  {
   "cell_type": "code",
   "execution_count": null,
   "metadata": {
    "collapsed": true
   },
   "outputs": [],
   "source": []
  }
 ],
 "metadata": {
  "kernelspec": {
   "display_name": "Python 2",
   "language": "python",
   "name": "python2"
  },
  "language_info": {
   "codemirror_mode": {
    "name": "ipython",
    "version": 2
   },
   "file_extension": ".py",
   "mimetype": "text/x-python",
   "name": "python",
   "nbconvert_exporter": "python",
   "pygments_lexer": "ipython2",
   "version": "2.7.9"
  }
 },
 "nbformat": 4,
 "nbformat_minor": 1
}
